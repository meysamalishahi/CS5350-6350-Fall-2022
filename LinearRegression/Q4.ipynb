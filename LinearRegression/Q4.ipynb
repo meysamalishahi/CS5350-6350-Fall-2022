{
 "cells": [
  {
   "cell_type": "code",
   "execution_count": 1,
   "id": "7dfb2fb7-249b-4431-b159-45ebc42c3080",
   "metadata": {},
   "outputs": [],
   "source": [
    "import numpy as np\n",
    "import matplotlib.pyplot as plt\n",
    "import pandas as pd\n",
    "from random import sample"
   ]
  },
  {
   "cell_type": "code",
   "execution_count": 2,
   "id": "91371470-5659-4004-9ccc-2edc76f63864",
   "metadata": {},
   "outputs": [
    {
     "name": "stdout",
     "output_type": "stream",
     "text": [
      "Task: Concrete Slump Test\n",
      "https://archive.ics.uci.edu/ml/datasets/Concrete+Slump+Test\n",
      "\n",
      "Description: Concrete is a highly complex material. The slump flow of concrete is not\n",
      "only determined by the water content, but that is also influenced by other concrete\n",
      "ingredients.\n",
      "\n",
      "To test SLUMP, we use 7 features (which are the first 7 columns)\n",
      "Cement\n",
      "Slag\n",
      "Fly ash\n",
      "Water\n",
      "SP\n",
      "Coarse Aggr\n",
      "Fine Aggr\n",
      "\n",
      "The output is the last column\n",
      "\n"
     ]
    }
   ],
   "source": [
    "txtfile = open('concrete/data-desc.txt', 'r')\n",
    "print(txtfile.read())"
   ]
  },
  {
   "cell_type": "code",
   "execution_count": 3,
   "id": "d5c22576-a40c-4214-b8bc-668b951c55a1",
   "metadata": {},
   "outputs": [],
   "source": [
    "Train_ = np.genfromtxt('concrete/train.csv', delimiter=',')\n",
    "Test_ = np.genfromtxt('concrete/test.csv', delimiter=',')"
   ]
  },
  {
   "cell_type": "code",
   "execution_count": 4,
   "id": "4c56b595-65fc-4000-87f7-3d5f69e6c749",
   "metadata": {},
   "outputs": [],
   "source": [
    "Train = np.c_[ Train_[:, :-1], np.ones(Train_.shape[0]) ] \n",
    "Label = Train_[:,-1]"
   ]
  },
  {
   "cell_type": "code",
   "execution_count": 5,
   "id": "1d8fbe43-90ec-48b3-b166-27ae1bfacb4f",
   "metadata": {},
   "outputs": [
    {
     "name": "stdout",
     "output_type": "stream",
     "text": [
      "(53, 8) (53,)\n"
     ]
    }
   ],
   "source": [
    "print(Train.shape, Label.shape)"
   ]
  },
  {
   "cell_type": "code",
   "execution_count": 6,
   "id": "237561ff-e5ed-4820-a6d3-3f9b2d652e64",
   "metadata": {},
   "outputs": [],
   "source": [
    "Test = np.c_[Test_[:, :-1] , np.ones(Test_.shape[0]) ] \n",
    "Test_Label = Test_[:,-1]"
   ]
  },
  {
   "cell_type": "markdown",
   "id": "5b9679d6-3ca7-4451-ad3a-7e967c6266fe",
   "metadata": {},
   "source": [
    "### Gradient Descent"
   ]
  },
  {
   "cell_type": "code",
   "execution_count": 7,
   "id": "8390a782-ec4a-4c79-889d-a6efc734bc96",
   "metadata": {},
   "outputs": [],
   "source": [
    "def cost(w, X=Train, y=Label):\n",
    "    return 1/2 * (X @ w - y).T @ (X @ w - y)"
   ]
  },
  {
   "cell_type": "code",
   "execution_count": 8,
   "id": "581f0ee3-8c24-479e-a3d4-b0a8901ddf1e",
   "metadata": {},
   "outputs": [
    {
     "name": "stdout",
     "output_type": "stream",
     "text": [
      "cost at zer vector:  22.325149676824875\n"
     ]
    }
   ],
   "source": [
    "print('cost at zer vector: ', cost(np.zeros(8)))"
   ]
  },
  {
   "cell_type": "code",
   "execution_count": 9,
   "id": "007c668e-128c-4ddd-bc44-24c72274d885",
   "metadata": {},
   "outputs": [],
   "source": [
    "def dcost(w, X=Train, y=Label):\n",
    "    return X.T @ (X @ w - y)"
   ]
  },
  {
   "cell_type": "code",
   "execution_count": 10,
   "id": "2045e929-028f-441c-83e9-4998bf67d611",
   "metadata": {},
   "outputs": [],
   "source": [
    "#dcost(np.zeros(8))"
   ]
  },
  {
   "cell_type": "code",
   "execution_count": 11,
   "id": "4eec73c9-9a9e-4043-83d5-73a809805c47",
   "metadata": {},
   "outputs": [],
   "source": [
    "# w_1 = np.zeros(8)\n",
    "# w_1[-1] = 1e-6"
   ]
  },
  {
   "cell_type": "code",
   "execution_count": 12,
   "id": "a661f683-5131-4f0c-9ec8-9cd18326d8e3",
   "metadata": {},
   "outputs": [],
   "source": [
    "# w_2 = np.zeros(8)\n",
    "# w_2[-1] = -1e-6"
   ]
  },
  {
   "cell_type": "code",
   "execution_count": 13,
   "id": "262e40cd-02c6-4f5d-85fe-88e46f3b976b",
   "metadata": {},
   "outputs": [],
   "source": [
    "# (cost(w_1)-cost(w_2))/2e-6"
   ]
  },
  {
   "cell_type": "code",
   "execution_count": 14,
   "id": "b6657696-8808-4c4d-a3b5-19aa4b66bd46",
   "metadata": {},
   "outputs": [],
   "source": [
    "def GD(lr, X=Train, y=Label):\n",
    "    w_old = np.zeros(8)\n",
    "    cost_hists = [cost(X, y, w_old)]\n",
    "    while True:\n",
    "        w_new = w_old - lr * dcost(w_old, X, y)\n",
    "        cost_hists.append(cost(w_new, X, y))\n",
    "        if np.linalg.norm(w_old - w_new)<1e-6:\n",
    "            w_old = w_new\n",
    "            break\n",
    "        else:\n",
    "            # print(np.linalg.norm(w_old - w_new))\n",
    "            w_old = w_new\n",
    "    return w_new, cost_hists"
   ]
  },
  {
   "cell_type": "code",
   "execution_count": 15,
   "id": "bdfe4d42-91b8-4ccc-aa4b-0355c8468e2f",
   "metadata": {},
   "outputs": [],
   "source": [
    "w, costs = GD(0.015)"
   ]
  },
  {
   "cell_type": "code",
   "execution_count": 16,
   "id": "a04745d4-4a51-4a12-807e-421e69073475",
   "metadata": {},
   "outputs": [
    {
     "name": "stdout",
     "output_type": "stream",
     "text": [
      "hte final vector by GD:  [ 0.90056469  0.78629339  0.8510429   1.29889434  0.12989068  1.5722486\n",
      "  0.99869379 -0.0151967 ]\n"
     ]
    }
   ],
   "source": [
    "print('hte final vector by GD: ', w)"
   ]
  },
  {
   "cell_type": "code",
   "execution_count": 17,
   "id": "3aaa0a27-d650-4044-ba6b-37cd2d735fc4",
   "metadata": {},
   "outputs": [
    {
     "data": {
      "image/png": "[encoded data removed]",
      "text/plain": [
       "<Figure size 432x288 with 1 Axes>"
      ]
     },
     "metadata": {
      "needs_background": "light"
     },
     "output_type": "display_data"
    }
   ],
   "source": [
    "plt.plot(costs, color ='blue', label = \"Training loss\")\n",
    "\n",
    "plt.axis()\n",
    "plt.title(\"Training loss vs #iterations\", color='black') \n",
    "plt.legend()\n",
    "plt.show()"
   ]
  },
  {
   "cell_type": "code",
   "execution_count": 18,
   "id": "5fcc095b-9978-49fc-8a8a-9182ab779f77",
   "metadata": {},
   "outputs": [
    {
     "name": "stdout",
     "output_type": "stream",
     "text": [
      "Final cost on Test by GD:  23.36175759033997\n"
     ]
    }
   ],
   "source": [
    "print('Final cost on Test by GD: ', cost(w=w, X=Test, y=Test_Label))"
   ]
  },
  {
   "cell_type": "markdown",
   "id": "e12e1af6-8658-4109-86ff-4e11749b2794",
   "metadata": {},
   "source": [
    "### Stochastic Gradient Descent"
   ]
  },
  {
   "cell_type": "code",
   "execution_count": 19,
   "id": "6d042ddc-20b1-4e64-8109-590f3d50ea95",
   "metadata": {},
   "outputs": [],
   "source": [
    "def SGD(lr, X=Train, y=Label):\n",
    "    w_old = np.zeros(8)\n",
    "    cost_hists = [cost(X, y, w_old)]\n",
    "    counter = 0\n",
    "    while True:\n",
    "        counter += 1\n",
    "        index = sample([x for x in range(len(Train))], 1)[0]\n",
    "        # print(index)\n",
    "        w_new = w_old - lr * dcost(w_old, X[index].reshape(1,-1), np.array(y[index]))\n",
    "        # cost_hists.append(cost(w_new, X[index].reshape(1,-1), np.array(y[index])))\n",
    "        cost_hists.append(cost(w_new, X, y))\n",
    "        if np.linalg.norm(w_old - w_new)<1e-6 or counter > 1e5:\n",
    "            w_old = w_new\n",
    "            break\n",
    "        else:\n",
    "            # print(np.linalg.norm(w_old - w_new))\n",
    "            w_old = w_new\n",
    "    return w_new, cost_hists"
   ]
  },
  {
   "cell_type": "code",
   "execution_count": 20,
   "id": "9b4eaa54-d550-4775-8221-1f5f19db5e5d",
   "metadata": {},
   "outputs": [],
   "source": [
    "w_s, costs_s = SGD(0.05)"
   ]
  },
  {
   "cell_type": "code",
   "execution_count": 21,
   "id": "dd7f75f1-513e-4500-89eb-5b26a52f80f0",
   "metadata": {},
   "outputs": [
    {
     "data": {
      "image/png": "[encoded data removed]",
      "text/plain": [
       "<Figure size 432x288 with 1 Axes>"
      ]
     },
     "metadata": {
      "needs_background": "light"
     },
     "output_type": "display_data"
    }
   ],
   "source": [
    "plt.plot(costs_s[0:2000], color ='blue', label = \"Training loss (SGD), lr = 0.05\")\n",
    "\n",
    "plt.axis()\n",
    "plt.title(\"Training loss vs #iterations\", color='black') \n",
    "plt.legend()\n",
    "plt.show()"
   ]
  },
  {
   "cell_type": "code",
   "execution_count": 23,
   "id": "f4cb487b-a42b-48b4-9e45-bd06b2030829",
   "metadata": {},
   "outputs": [
    {
     "name": "stdout",
     "output_type": "stream",
     "text": [
      "Final Cost On Test by SGD:  24.867503183623356\n"
     ]
    }
   ],
   "source": [
    "print('Final Cost On Test by SGD: ', cost(w=w_s, X=Test, y=Test_Label))"
   ]
  },
  {
   "cell_type": "code",
   "execution_count": 24,
   "id": "f2be2a95-6536-454a-8367-98aad3e57b5c",
   "metadata": {},
   "outputs": [
    {
     "name": "stdout",
     "output_type": "stream",
     "text": [
      "final weight vector by SGD:  [ 0.92221537  0.82409329  0.70435281  1.28082111  0.21362574  1.61963928\n",
      "  1.18971101 -0.01447325]\n"
     ]
    }
   ],
   "source": [
    "print('final weight vector by SGD: ', w_s)"
   ]
  },
  {
   "cell_type": "markdown",
   "id": "3023318f-69be-4c56-9114-a60b33c28529",
   "metadata": {},
   "source": [
    "### Optimal weight vector"
   ]
  },
  {
   "cell_type": "code",
   "execution_count": 25,
   "id": "520f85f9-e64c-48f9-84ba-45f37d675ca7",
   "metadata": {},
   "outputs": [],
   "source": [
    "X=Train\n",
    "y=Label\n",
    "w_op = np.linalg.inv(X.T@X)@X.T@y"
   ]
  },
  {
   "cell_type": "code",
   "execution_count": 26,
   "id": "18e7bba2-49dd-4e96-96cf-de492b5bd054",
   "metadata": {},
   "outputs": [
    {
     "name": "stdout",
     "output_type": "stream",
     "text": [
      "Optimal weight vector by SGD:  [ 0.90056451  0.78629331  0.85104314  1.29889413  0.12989067  1.57224887\n",
      "  0.99869359 -0.01519667]\n"
     ]
    }
   ],
   "source": [
    "print('Optimal weight vector by SGD: ', w_op)"
   ]
  },
  {
   "cell_type": "code",
   "execution_count": 27,
   "id": "8ae9700a",
   "metadata": {},
   "outputs": [
    {
     "name": "stdout",
     "output_type": "stream",
     "text": [
      "Final Cost on Test by Optimal weight:  23.3617644799389\n"
     ]
    }
   ],
   "source": [
    "print('Final Cost on Test by Optimal weight: ', cost(w=w_op, X=Test, y=Test_Label))"
   ]
  },
  {
   "cell_type": "code",
   "execution_count": null,
   "id": "4f9f9787",
   "metadata": {},
   "outputs": [],
   "source": []
  }
 ],
 "metadata": {
  "kernelspec": {
   "display_name": "Python 3 (ipykernel)",
   "language": "python",
   "name": "python3"
  },
  "language_info": {
   "codemirror_mode": {
    "name": "ipython",
    "version": 3
   },
   "file_extension": ".py",
   "mimetype": "text/x-python",
   "name": "python",
   "nbconvert_exporter": "python",
   "pygments_lexer": "ipython3",
   "version": "3.9.7"
  }
 },
 "nbformat": 4,
 "nbformat_minor": 5
}
