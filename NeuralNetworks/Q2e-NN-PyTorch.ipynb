{
 "cells": [
  {
   "cell_type": "markdown",
   "metadata": {},
   "source": [
    "Implementation using PyTorch \n",
    "--------"
   ]
  },
  {
   "cell_type": "code",
   "execution_count": 1,
   "metadata": {},
   "outputs": [],
   "source": [
    "import torch\n",
    "import torch.nn as nn\n",
    "import torch.nn.functional as F\n",
    "import numpy as np\n",
    "from collections import OrderedDict\n",
    "%matplotlib inline"
   ]
  },
  {
   "cell_type": "code",
   "execution_count": 2,
   "metadata": {},
   "outputs": [],
   "source": [
    "import pandas as pd\n",
    "import matplotlib.pyplot as plt"
   ]
  },
  {
   "cell_type": "code",
   "execution_count": 3,
   "metadata": {},
   "outputs": [],
   "source": [
    "def load_data():\n",
    "    \n",
    "    train = []\n",
    "    train_labels = []\n",
    "    with open(\"bank-note/train.csv\", \"r\") as f:\n",
    "        for line in f:\n",
    "            item = line.strip().split(\",\")\n",
    "            train.append(item[:-1])\n",
    "            train_labels.append(int(item[-1]))\n",
    "            \n",
    "    test = []\n",
    "    test_labels = []\n",
    "    with open(\"bank-note/test.csv\", \"r\") as f:\n",
    "        for line in f:\n",
    "            item = line.strip().split(\",\")\n",
    "            test.append(item[:-1])\n",
    "            test_labels.append(int(item[-1]))\n",
    "            \n",
    "    return np.asarray(train, dtype= float), np.asarray(train_labels, dtype= int), np.asarray(test, dtype= float), np.asarray(test_labels, dtype= int)"
   ]
  },
  {
   "cell_type": "code",
   "execution_count": 4,
   "metadata": {},
   "outputs": [],
   "source": [
    "X_train, y_train, X_test, y_test =  load_data()"
   ]
  },
  {
   "cell_type": "code",
   "execution_count": 5,
   "metadata": {},
   "outputs": [],
   "source": [
    "X_tr = torch.from_numpy(X_train).type(torch.float32) \n",
    "y_tr = torch.from_numpy(y_train).type(torch.int64)\n",
    "X_te = torch.from_numpy(X_test).type(torch.float32)\n",
    "y_te = torch.from_numpy(y_test).type(torch.float64)"
   ]
  },
  {
   "cell_type": "code",
   "execution_count": 6,
   "metadata": {},
   "outputs": [],
   "source": [
    "class MyNN(nn.Module):\n",
    "    def __init__(self, depth, input_size, hidden_size, n_classes, act, init = nn.init.xavier_normal_):\n",
    "        super().__init__()\n",
    "        self.layers = []\n",
    "        \n",
    "        self.layers.append(nn.Linear(in_features= input_size, out_features= hidden_size))\n",
    "        init(self.layers[-1].weight)\n",
    "        \n",
    "        \n",
    "        for _ in range(depth-2):\n",
    "            self.layers.append(nn.Linear(in_features= hidden_size, out_features= hidden_size))\n",
    "            init(self.layers[-1].weight)\n",
    "            \n",
    "        self.layers.append(nn.Linear(in_features=hidden_size, out_features = n_classes))\n",
    "        init(self.layers[-1].weight)           \n",
    "        \n",
    "        self.act = act\n",
    "        \n",
    "        self.fc = nn.ModuleList(self.layers)\n",
    "    \n",
    "    def forward(self, x):\n",
    "        for i in range(len(self.fc)-1):\n",
    "            x = self.act(self.fc[i](x))\n",
    "        x = self.fc[-1](x)\n",
    "        return x"
   ]
  },
  {
   "cell_type": "code",
   "execution_count": 7,
   "metadata": {},
   "outputs": [
    {
     "name": "stdout",
     "output_type": "stream",
     "text": [
      "\"tanh\" as activation function with \"Xavier\" initialization\n"
     ]
    }
   ],
   "source": [
    "print('\"tanh\" as activation function with \"Xavier\" initialization')"
   ]
  },
  {
   "cell_type": "code",
   "execution_count": 8,
   "metadata": {
    "scrolled": false
   },
   "outputs": [
    {
     "name": "stdout",
     "output_type": "stream",
     "text": [
      "depth = 3\n",
      "for width = 5: train error = 0.0045871734619140625 and test error = 0.008000016212463379\n",
      "for width = 10: train error = 0.0 and test error = 0.0\n",
      "for width = 25: train error = 0.0 and test error = 0.0\n",
      "for width = 50: train error = 0.0 and test error = 0.0\n",
      "for width = 100: train error = 0.0 and test error = 0.0\n",
      "\n",
      "\n",
      "depth = 5\n",
      "for width = 5: train error = 0.0 and test error = 0.0\n",
      "for width = 10: train error = 0.0 and test error = 0.0\n",
      "for width = 25: train error = 0.0 and test error = 0.0\n",
      "for width = 50: train error = 0.0 and test error = 0.0\n",
      "for width = 100: train error = 0.0 and test error = 0.0\n",
      "\n",
      "\n",
      "depth = 9\n",
      "for width = 5: train error = 0.008027493953704834 and test error = 0.001999974250793457\n",
      "for width = 10: train error = 0.0 and test error = 0.0\n",
      "for width = 25: train error = 0.0 and test error = 0.001999974250793457\n",
      "for width = 50: train error = 0.0 and test error = 0.0\n",
      "for width = 100: train error = 0.0 and test error = 0.0\n",
      "\n",
      "\n"
     ]
    }
   ],
   "source": [
    " for depth in [3,5,9]:\n",
    "        print('depth = {}'.format(depth))\n",
    "        for width in [5,10,25,50, 100]:\n",
    "            model = MyNN(depth, 4, width, 2, torch.tanh)\n",
    "            criterion = nn.CrossEntropyLoss()\n",
    "            optimizer = torch.optim.Adam(model.parameters(), lr=0.01)\n",
    "            for i in range(50):\n",
    "                y_hat = model(X_tr)\n",
    "                loss = criterion(y_hat, y_tr)\n",
    "\n",
    "                optimizer.zero_grad()\n",
    "                loss.backward()\n",
    "                optimizer.step()\n",
    "                \n",
    "            y_hat = model.forward(X_tr)\n",
    "            e_1 = 1- (y_hat.max(axis = 1)[1] == y_tr).sum()/X_tr.shape[0]\n",
    "            \n",
    "            y_hat = model.forward(X_te)\n",
    "            e_2 = 1- (y_hat.max(axis = 1)[1] == y_te).sum()/X_te.shape[0]\n",
    "            print('for width = {}: train error = {} and test error = {}'.format(width, \n",
    "                                                                                               e_1, e_2))\n",
    "        print('\\n')\n",
    "    "
   ]
  },
  {
   "cell_type": "code",
   "execution_count": 9,
   "metadata": {},
   "outputs": [
    {
     "name": "stdout",
     "output_type": "stream",
     "text": [
      "\"ReLU\" as activation function with \"he\" initialization\n"
     ]
    }
   ],
   "source": [
    "print('\"ReLU\" as activation function with \"he\" initialization')"
   ]
  },
  {
   "cell_type": "code",
   "execution_count": 11,
   "metadata": {},
   "outputs": [
    {
     "name": "stdout",
     "output_type": "stream",
     "text": [
      "depth = 3\n",
      "width = 5: train error = 0.0045871734619140625 and test error = 0.008000016212463379\n",
      "width = 10: train error = 0.0 and test error = 0.0\n",
      "width = 25: train error = 0.0 and test error = 0.0\n",
      "width = 50: train error = 0.0 and test error = 0.0\n",
      "width = 100: train error = 0.0 and test error = 0.0\n",
      "\n",
      "\n",
      "depth = 5\n",
      "width = 5: train error = 0.0 and test error = 0.0\n",
      "width = 10: train error = 0.0 and test error = 0.001999974250793457\n",
      "width = 25: train error = 0.0 and test error = 0.0\n",
      "width = 50: train error = 0.0 and test error = 0.001999974250793457\n",
      "width = 100: train error = 0.0 and test error = 0.0\n",
      "\n",
      "\n",
      "depth = 9\n",
      "width = 5: train error = 0.003440380096435547 and test error = 0.0059999823570251465\n",
      "width = 10: train error = 0.0 and test error = 0.0\n",
      "width = 25: train error = 0.0 and test error = 0.0\n",
      "width = 50: train error = 0.0 and test error = 0.0\n",
      "width = 100: train error = 0.0 and test error = 0.0\n",
      "\n",
      "\n"
     ]
    }
   ],
   "source": [
    "for depth in [3,5,9]:\n",
    "        print('depth = {}'.format(depth))\n",
    "        for width in [5,10,25,50, 100]:\n",
    "            model = MyNN(depth, 4, width, 2, nn.ReLU(), init = nn.init.kaiming_normal_)\n",
    "\n",
    "            criterion = nn.CrossEntropyLoss()\n",
    "            optimizer = torch.optim.Adam(model.parameters(), lr = 0.01)\n",
    "            for i in range(100):\n",
    "                y_hat = model(X_tr)\n",
    "                loss = criterion(y_hat, y_tr)\n",
    "\n",
    "                optimizer.zero_grad()\n",
    "                loss.backward()\n",
    "                optimizer.step()\n",
    "                \n",
    "            y_hat = model.forward(X_tr)\n",
    "            e_1 = 1- (y_hat.max(axis = 1)[1] == y_tr).sum()/X_tr.shape[0]\n",
    "            \n",
    "            y_hat = model.forward(X_te)\n",
    "            e_2 = 1- (y_hat.max(axis = 1)[1] == y_te).sum()/X_te.shape[0]\n",
    "            print('width = {}: train error = {} and test error = {}'.format(width, \n",
    "                                                                                               e_1, e_2))\n",
    "        print('\\n')"
   ]
  },
  {
   "cell_type": "code",
   "execution_count": null,
   "metadata": {},
   "outputs": [],
   "source": []
  }
 ],
 "metadata": {
  "kernelspec": {
   "display_name": "Python 3 (ipykernel)",
   "language": "python",
   "name": "python3"
  },
  "language_info": {
   "codemirror_mode": {
    "name": "ipython",
    "version": 3
   },
   "file_extension": ".py",
   "mimetype": "text/x-python",
   "name": "python",
   "nbconvert_exporter": "python",
   "pygments_lexer": "ipython3",
   "version": "3.9.7"
  }
 },
 "nbformat": 4,
 "nbformat_minor": 4
}
