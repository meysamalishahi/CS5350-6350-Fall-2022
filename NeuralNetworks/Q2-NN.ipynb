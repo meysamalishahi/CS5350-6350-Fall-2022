{
 "cells": [
  {
   "cell_type": "code",
   "execution_count": 1,
   "metadata": {},
   "outputs": [],
   "source": [
    "import numpy as np\n",
    "import time\n",
    "import random\n",
    "from MyNN import *\n",
    "%load_ext autoreload\n",
    "%autoreload 2"
   ]
  },
  {
   "cell_type": "code",
   "execution_count": 2,
   "metadata": {},
   "outputs": [],
   "source": [
    "data = np.genfromtxt('bank-note/train.csv', delimiter=\",\")\n",
    "test = np.genfromtxt('bank-note/test.csv', delimiter=\",\")"
   ]
  },
  {
   "cell_type": "code",
   "execution_count": 3,
   "metadata": {},
   "outputs": [],
   "source": [
    "X_train = data[:,:-1]\n",
    "X_test = test[:,:-1]\n",
    "\n",
    "y_train = data[:,-1].astype(int).reshape(-1,1)\n",
    "y_test = test[:,-1].astype(int).reshape(-1,1)"
   ]
  },
  {
   "cell_type": "code",
   "execution_count": 4,
   "metadata": {},
   "outputs": [
    {
     "name": "stdout",
     "output_type": "stream",
     "text": [
      "Initialize all the weights at random\n"
     ]
    }
   ],
   "source": [
    "print(\"Initialize all the weights at random\")"
   ]
  },
  {
   "cell_type": "code",
   "execution_count": 5,
   "metadata": {},
   "outputs": [
    {
     "name": "stdout",
     "output_type": "stream",
     "text": [
      "for width = 5, train error = 0.002293577981651418 and test error = 0.0\n",
      "for width = 10, train error = 0.0011467889908256534 and test error = 0.0\n",
      "for width = 25, train error = 0.010321100917431214 and test error = 0.01200000000000001\n",
      "for width = 100, train error = 0.0 and test error = 0.0\n"
     ]
    }
   ],
   "source": [
    "for l in [5,10,25,100]:\n",
    "    model = NN([l, l], std = 1)\n",
    "    model.fit(X_train[:,:], y_train[:,:], gamma_0 = 0.01, d = .01, n_epoch= 5, reg = .0, batch_size = 1)\n",
    "    train_error = 1 - np.sum(model.predict(X_train).reshape(-1,1) == y_train)/X_train.shape[0]\n",
    "    test_error = 1 - np.sum(model.predict(X_test).reshape(-1,1) == y_test)/X_test.shape[0]\n",
    "    print('for width = {}, train error = {} and test error = {}'.format(l, train_error, test_error))"
   ]
  },
  {
   "cell_type": "code",
   "execution_count": 6,
   "metadata": {},
   "outputs": [
    {
     "name": "stdout",
     "output_type": "stream",
     "text": [
      "Initialize all the weights with 0\n"
     ]
    }
   ],
   "source": [
    "print(\"Initialize all the weights with 0\")"
   ]
  },
  {
   "cell_type": "code",
   "execution_count": 7,
   "metadata": {},
   "outputs": [
    {
     "name": "stdout",
     "output_type": "stream",
     "text": [
      "for width = 5, train error = 0.4461009174311926 and test error = 0.44199999999999995\n",
      "for width = 10, train error = 0.4461009174311926 and test error = 0.44199999999999995\n",
      "for width = 25, train error = 0.4461009174311926 and test error = 0.44199999999999995\n",
      "for width = 100, train error = 0.4461009174311926 and test error = 0.44199999999999995\n"
     ]
    }
   ],
   "source": [
    "for l in [5, 10, 25, 100]:\n",
    "    model = NN([l, l], std = 0)\n",
    "    model.fit(X_train[:,:], y_train[:,:], gamma_0 = 0.01, d = 1, n_epoch= 5, reg = 0, batch_size = 10)\n",
    "    train_error = 1 - np.sum(model.predict(X_train).reshape(-1,1) == y_train)/X_train.shape[0]\n",
    "    test_error = 1 - np.sum(model.predict(X_test).reshape(-1,1) == y_test)/X_test.shape[0]\n",
    "    print('for width = {}, train error = {} and test error = {}'.format(l, train_error, test_error))"
   ]
  },
  {
   "cell_type": "code",
   "execution_count": null,
   "metadata": {},
   "outputs": [],
   "source": []
  }
 ],
 "metadata": {
  "kernelspec": {
   "display_name": "Python 3 (ipykernel)",
   "language": "python",
   "name": "python3"
  },
  "language_info": {
   "codemirror_mode": {
    "name": "ipython",
    "version": 3
   },
   "file_extension": ".py",
   "mimetype": "text/x-python",
   "name": "python",
   "nbconvert_exporter": "python",
   "pygments_lexer": "ipython3",
   "version": "3.9.7"
  }
 },
 "nbformat": 4,
 "nbformat_minor": 4
}
