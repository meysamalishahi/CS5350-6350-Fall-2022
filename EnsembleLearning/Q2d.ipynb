{
 "cells": [
  {
   "cell_type": "code",
   "execution_count": 1,
   "metadata": {},
   "outputs": [],
   "source": [
    "import pandas as pd\n",
    "import numpy as np\n",
    "from AllFunctions import *\n",
    "from numpy import log2, log, sqrt\n",
    "import matplotlib.pyplot as plt\n",
    "import random\n",
    "from random import sample\n",
    "import copy"
   ]
  },
  {
   "cell_type": "code",
   "execution_count": 2,
   "metadata": {},
   "outputs": [],
   "source": [
    "# txtfile = open('bank/data-desc.txt', 'r')\n",
    "# print(txtfile.read())"
   ]
  },
  {
   "cell_type": "code",
   "execution_count": 3,
   "metadata": {},
   "outputs": [],
   "source": [
    "C = ['age', 'job', 'marital', 'education', 'default', 'balance', 'housing', 'loan', \n",
    " 'contact', 'day', 'month', 'duration', 'campaign', 'pdays', 'previous', 'poutcome', 'y']\n",
    "types = ['numeric', 'categorical', 'categorical', 'categorical', 'binary', 'numeric', \n",
    "                      'binary', 'binary', 'categorical', 'numeric', 'categorical', 'numeric', \n",
    "                      'numeric', 'numeric', 'numeric', 'categorical', 'binary']\n",
    "dic= dict(zip(C, types))"
   ]
  },
  {
   "cell_type": "code",
   "execution_count": 4,
   "metadata": {},
   "outputs": [],
   "source": [
    "train = pd.read_csv('bank/train.csv', names = C)\n",
    "test = pd.read_csv('bank/test.csv', names = C)\n",
    "#train.head()"
   ]
  },
  {
   "cell_type": "code",
   "execution_count": 5,
   "metadata": {},
   "outputs": [],
   "source": [
    "median_dict = {}\n",
    "Train_new =pd.DataFrame()\n",
    "Test_new =pd.DataFrame()\n",
    "for name in C:\n",
    "    if dic[name] == 'numeric':\n",
    "        M = train[name].median()\n",
    "        median_dict[name] = M\n",
    "        Train_new[name+ '>' + str(M)] = np.where(train[name]  > M, 'yes', 'no')\n",
    "        Test_new[name+ '>' + str(M)] = np.where(test[name]  > M, 'yes', 'no')\n",
    "    else:\n",
    "        Train_new[name] = train[name]\n",
    "        Test_new[name] = test[name]"
   ]
  },
  {
   "cell_type": "code",
   "execution_count": 6,
   "metadata": {},
   "outputs": [],
   "source": [
    "Train = []\n",
    "Label = []\n",
    "for i in range(len(Train_new)):\n",
    "    temp = list(Train_new.loc[i])\n",
    "    Train.append(temp[:-1])\n",
    "    Label.append(temp[-1])"
   ]
  },
  {
   "cell_type": "code",
   "execution_count": 7,
   "metadata": {},
   "outputs": [],
   "source": [
    "Test = []\n",
    "Test_Label = []\n",
    "for i in range(len(Test_new)):\n",
    "    temp = list(Test_new.loc[i])\n",
    "    Test.append(temp[:-1])\n",
    "    Test_Label.append(temp[-1])"
   ]
  },
  {
   "cell_type": "code",
   "execution_count": 8,
   "metadata": {},
   "outputs": [],
   "source": [
    "for i in range(len(Label)):\n",
    "    if Label[i] == 'yes':\n",
    "        Label[i] = 1\n",
    "    else:\n",
    "        Label[i] = -1"
   ]
  },
  {
   "cell_type": "code",
   "execution_count": 9,
   "metadata": {},
   "outputs": [],
   "source": [
    "for i in range(len(Test_Label)):\n",
    "    if Test_Label[i] == 'yes':\n",
    "        Test_Label[i] = 1\n",
    "    else:\n",
    "        Test_Label[i] = -1"
   ]
  },
  {
   "cell_type": "code",
   "execution_count": 10,
   "metadata": {},
   "outputs": [],
   "source": [
    "atts = list(range(0,len(C)-1))"
   ]
  },
  {
   "cell_type": "code",
   "execution_count": 11,
   "metadata": {},
   "outputs": [
    {
     "data": {
      "text/plain": [
       "[0, 1, 2, 3, 4, 5, 6, 7, 8, 9, 10, 11, 12, 13, 14, 15]"
      ]
     },
     "execution_count": 11,
     "metadata": {},
     "output_type": "execute_result"
    }
   ],
   "source": [
    "# print(atts)"
   ]
  },
  {
   "cell_type": "code",
   "execution_count": 12,
   "metadata": {},
   "outputs": [],
   "source": [
    "def sample_(X, Y, n_samples = None):\n",
    "    n = len(X)\n",
    "    if n_samples == None:\n",
    "        n_samples = n\n",
    "        \n",
    "    s_t = []\n",
    "    s_l = []\n",
    "    for _ in range(0, n_samples):\n",
    "        i = random.randint(0, n-1)\n",
    "        s_t.append(X[i])\n",
    "        s_l.append(Y[i])\n",
    "\n",
    "    return s_t, s_l"
   ]
  },
  {
   "cell_type": "code",
   "execution_count": 13,
   "metadata": {},
   "outputs": [
    {
     "name": "stdout",
     "output_type": "stream",
     "text": [
      "r =  2\n",
      "r =  4\n",
      "r =  6\n"
     ]
    }
   ],
   "source": [
    "R = [2,4,6]\n",
    "List = []\n",
    "for i in range(3):\n",
    "    r = R[i]\n",
    "    F = []\n",
    "    print('r = ', r)\n",
    "    for x in range(500):\n",
    "        \n",
    "        X, Y = sample_(Train, Label)\n",
    "#         X, Y = sample_(Train, Label, 2000)\n",
    "#         X, Y = Train, Label\n",
    "        model = DT(X, Y, attss = [i for i in range(len(Train[0]))], depth = -1, \n",
    "                          randomness = r)\n",
    "        F.append(copy.copy(model))\n",
    "    List.append(F)"
   ]
  },
  {
   "cell_type": "code",
   "execution_count": 14,
   "metadata": {},
   "outputs": [
    {
     "data": {
      "text/plain": [
       "(140455552008928, <AllFunctions.DT at 0x7fbe5b48c2e0>)"
      ]
     },
     "execution_count": 14,
     "metadata": {},
     "output_type": "execute_result"
    }
   ],
   "source": [
    "id(List[0][0]),List[0][0]"
   ]
  },
  {
   "cell_type": "code",
   "execution_count": 15,
   "metadata": {},
   "outputs": [
    {
     "data": {
      "text/plain": [
       "(140453764579392, <AllFunctions.DT at 0x7fbdf0bec040>)"
      ]
     },
     "execution_count": 15,
     "metadata": {},
     "output_type": "execute_result"
    }
   ],
   "source": [
    "id(List[1][0]),List[1][0]"
   ]
  },
  {
   "cell_type": "code",
   "execution_count": 16,
   "metadata": {},
   "outputs": [],
   "source": [
    "def Error_bagging(FF, X, Y):\n",
    "    \n",
    "    n = len(Y)\n",
    "    errorrr = [0] * len(FF)\n",
    "    \n",
    "    for i in range(n):\n",
    "        count = {}\n",
    "        majority = None\n",
    "        Max = -1\n",
    "        for j in range(len(FF)):\n",
    "            \n",
    "\n",
    "            temp = FF[j].predict(X[i]) \n",
    "            if temp not in count:\n",
    "                count[temp] = 0\n",
    "                \n",
    "            count[temp] += 1\n",
    "            if count[temp] > Max:\n",
    "                Max = count[temp]\n",
    "                majority = temp\n",
    "        \n",
    "            if majority != Y[i]:\n",
    "                errorrr[j] += 1/len(Y)\n",
    "                \n",
    "    return(errorrr)"
   ]
  },
  {
   "cell_type": "code",
   "execution_count": 17,
   "metadata": {},
   "outputs": [],
   "source": [
    "E_train_0 = Error_bagging(List[0], Train, Label)\n",
    "E_train_1 = Error_bagging(List[1], Train, Label)\n",
    "E_train_2 = Error_bagging(List[2], Train, Label)"
   ]
  },
  {
   "cell_type": "code",
   "execution_count": 18,
   "metadata": {},
   "outputs": [],
   "source": [
    "E_test_0 = Error_bagging(List[0], Test, Test_Label)\n",
    "E_test_1 = Error_bagging(List[1], Test, Test_Label)\n",
    "E_test_2 = Error_bagging(List[2], Test, Test_Label)"
   ]
  },
  {
   "cell_type": "code",
   "execution_count": 19,
   "metadata": {},
   "outputs": [
    {
     "data": {
      "image/png": "[encoded data removed]",
      "text/plain": [
       "<Figure size 432x288 with 1 Axes>"
      ]
     },
     "metadata": {
      "needs_background": "light"
     },
     "output_type": "display_data"
    }
   ],
   "source": [
    "plt.plot(E_train_0, color ='blue', label = \"Train, size = 2\")\n",
    "plt.plot(E_train_1, color ='red', label = \"Train, size = 4\")\n",
    "plt.plot(E_train_2, color ='black', label = \"Train, size = 6 \")\n",
    "#plt.plot(E_test, color ='red', label = \"Test\")\n",
    "\n",
    "plt.axis()\n",
    "plt.title(\"Random forest error vs #iters\", color='black') \n",
    "plt.legend()\n",
    "plt.show()\n"
   ]
  },
  {
   "cell_type": "code",
   "execution_count": 20,
   "metadata": {},
   "outputs": [
    {
     "data": {
      "image/png": "[encoded data removed]",
      "text/plain": [
       "<Figure size 432x288 with 1 Axes>"
      ]
     },
     "metadata": {
      "needs_background": "light"
     },
     "output_type": "display_data"
    }
   ],
   "source": [
    "plt.plot(E_test_0, color ='blue', label = \"Test, size = 2\")\n",
    "plt.plot(E_test_1, color ='red', label = \"Test, size = 4\")\n",
    "plt.plot(E_test_2, color ='black', label = \"Test, size = 6 \")\n",
    "#plt.plot(E_test, color ='red', label = \"Test\")\n",
    "\n",
    "plt.axis()\n",
    "plt.title(\"Random forest error vs #iters\", color='black') \n",
    "plt.legend()\n",
    "plt.show()\n",
    "\n"
   ]
  }
 ],
 "metadata": {
  "kernelspec": {
   "display_name": "Python 3 (ipykernel)",
   "language": "python",
   "name": "python3"
  },
  "language_info": {
   "codemirror_mode": {
    "name": "ipython",
    "version": 3
   },
   "file_extension": ".py",
   "mimetype": "text/x-python",
   "name": "python",
   "nbconvert_exporter": "python",
   "pygments_lexer": "ipython3",
   "version": "3.9.7"
  }
 },
 "nbformat": 4,
 "nbformat_minor": 4
}
