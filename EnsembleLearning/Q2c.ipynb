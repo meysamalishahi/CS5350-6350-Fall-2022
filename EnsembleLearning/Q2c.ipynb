{
 "cells": [
  {
   "cell_type": "code",
   "execution_count": 1,
   "metadata": {},
   "outputs": [],
   "source": [
    "import pandas as pd\n",
    "import numpy as np\n",
    "from AllFunctions import *\n",
    "from numpy import log2, log, sqrt\n",
    "import matplotlib.pyplot as plt\n",
    "import random\n",
    "from random import sample"
   ]
  },
  {
   "cell_type": "code",
   "execution_count": 2,
   "metadata": {},
   "outputs": [],
   "source": [
    "# txtfile = open('bank/data-desc.txt', 'r')\n",
    "# print(txtfile.read())"
   ]
  },
  {
   "cell_type": "code",
   "execution_count": 3,
   "metadata": {},
   "outputs": [],
   "source": [
    "C = ['age', 'job', 'marital', 'education', 'default', 'balance', 'housing', 'loan', \n",
    " 'contact', 'day', 'month', 'duration', 'campaign', 'pdays', 'previous', 'poutcome', 'y']\n",
    "types = ['numeric', 'categorical', 'categorical', 'categorical', 'binary', 'numeric', \n",
    "                      'binary', 'binary', 'categorical', 'numeric', 'categorical', 'numeric', \n",
    "                      'numeric', 'numeric', 'numeric', 'categorical', 'binary']\n",
    "dic= dict(zip(C, types))"
   ]
  },
  {
   "cell_type": "code",
   "execution_count": 4,
   "metadata": {},
   "outputs": [],
   "source": [
    "train = pd.read_csv('bank/train.csv', names = C)\n",
    "test = pd.read_csv('bank/test.csv', names = C)\n",
    "#train.head()"
   ]
  },
  {
   "cell_type": "code",
   "execution_count": 5,
   "metadata": {},
   "outputs": [],
   "source": [
    "median_dict = {}\n",
    "Train_new =pd.DataFrame()\n",
    "Test_new =pd.DataFrame()\n",
    "for name in C:\n",
    "    if dic[name] == 'numeric':\n",
    "        M = train[name].median()\n",
    "        median_dict[name] = M\n",
    "        Train_new[name+ '>' + str(M)] = np.where(train[name]  > M, 'yes', 'no')\n",
    "        Test_new[name+ '>' + str(M)] = np.where(test[name]  > M, 'yes', 'no')\n",
    "    else:\n",
    "        Train_new[name] = train[name]\n",
    "        Test_new[name] = test[name]"
   ]
  },
  {
   "cell_type": "code",
   "execution_count": 6,
   "metadata": {},
   "outputs": [],
   "source": [
    "Train = []\n",
    "Label = []\n",
    "for i in range(len(Train_new)):\n",
    "    temp = list(Train_new.loc[i])\n",
    "    Train.append(temp[:-1])\n",
    "    Label.append(temp[-1])"
   ]
  },
  {
   "cell_type": "code",
   "execution_count": 7,
   "metadata": {},
   "outputs": [],
   "source": [
    "Test = []\n",
    "Test_Label = []\n",
    "for i in range(len(Test_new)):\n",
    "    temp = list(Test_new.loc[i])\n",
    "    Test.append(temp[:-1])\n",
    "    Test_Label.append(temp[-1])"
   ]
  },
  {
   "cell_type": "code",
   "execution_count": 8,
   "metadata": {},
   "outputs": [],
   "source": [
    "for i in range(len(Label)):\n",
    "    if Label[i] == 'yes':\n",
    "        Label[i] = 1\n",
    "    else:\n",
    "        Label[i] = -1"
   ]
  },
  {
   "cell_type": "code",
   "execution_count": 9,
   "metadata": {},
   "outputs": [],
   "source": [
    "for i in range(len(Test_Label)):\n",
    "    if Test_Label[i] == 'yes':\n",
    "        Test_Label[i] = 1\n",
    "    else:\n",
    "        Test_Label[i] = -1"
   ]
  },
  {
   "cell_type": "code",
   "execution_count": 10,
   "metadata": {},
   "outputs": [],
   "source": [
    "atts = list(range(0,len(C)-1))"
   ]
  },
  {
   "cell_type": "markdown",
   "metadata": {},
   "source": [
    "### Bisa-Variance"
   ]
  },
  {
   "cell_type": "code",
   "execution_count": 11,
   "metadata": {},
   "outputs": [],
   "source": [
    "n_bagges = 100\n",
    "n_trees = 100"
   ]
  },
  {
   "cell_type": "code",
   "execution_count": 12,
   "metadata": {},
   "outputs": [
    {
     "name": "stdout",
     "output_type": "stream",
     "text": [
      "0\n",
      "10\n",
      "20\n",
      "30\n",
      "40\n",
      "50\n",
      "60\n",
      "70\n",
      "80\n",
      "90\n"
     ]
    }
   ],
   "source": [
    "n = len(Train)\n",
    "Model_histroy = []\n",
    "for i in range(n_bagges):\n",
    "    if i%10 == 0:\n",
    "        print(i)\n",
    "    his = []\n",
    "    I = sample(range(n), 1000)\n",
    "    s_t = [Train[i] for i in I]\n",
    "    l_t = [Label[i] for i in I]\n",
    "    for _ in range(n_trees):\n",
    "        model = DT(s_t, l_t, attss = [i for i in range(len(Train[0]))], depth = -1, randomness = 3)\n",
    "        his.append(model)\n",
    "    \n",
    "    Model_histroy.append(his) "
   ]
  },
  {
   "cell_type": "code",
   "execution_count": 13,
   "metadata": {},
   "outputs": [],
   "source": [
    "def single_bias_var(x, y, Forest):\n",
    "    n = len(Forest)\n",
    "    h_star_x = np.zeros(n)\n",
    "    for i in range(n):\n",
    "        model = Forest[i]\n",
    "        h_star_x[i] = model.predict(x)\n",
    "    return (y - h_star_x.mean())**2, h_star_x.var()   "
   ]
  },
  {
   "cell_type": "code",
   "execution_count": 14,
   "metadata": {},
   "outputs": [],
   "source": [
    "Forest = [Model_histroy[i][0] for i in range(n_bagges)]"
   ]
  },
  {
   "cell_type": "code",
   "execution_count": 15,
   "metadata": {},
   "outputs": [
    {
     "name": "stdout",
     "output_type": "stream",
     "text": [
      "bias_1, var_1: 0.33998032 0.33361968000000003\n"
     ]
    }
   ],
   "source": [
    "bias_1 = np.array([single_bias_var(Test[i], Test_Label[i], Forest)[0] for i in range(len(Test))]).mean()\n",
    "var_1 = np.array([single_bias_var(Test[i], Test_Label[i], Forest)[1] for i in range(len(Test))]).mean()\n",
    "print('bias_1, var_1:', bias_1, var_1)"
   ]
  },
  {
   "cell_type": "code",
   "execution_count": 16,
   "metadata": {},
   "outputs": [
    {
     "name": "stdout",
     "output_type": "stream",
     "text": [
      "general_squared_error: 0.6736\n"
     ]
    }
   ],
   "source": [
    "general_squared_error = bias_1 + var_1\n",
    "print('general_squared_error:', general_squared_error)"
   ]
  },
  {
   "cell_type": "code",
   "execution_count": 17,
   "metadata": {},
   "outputs": [],
   "source": [
    "def Bagg_pred(x, bagg):\n",
    "    y_pred = 0\n",
    "    for model in bagg:\n",
    "        y_pred += model.predict(x)\n",
    "    if y_pred>= 0: return 1\n",
    "    return -1"
   ]
  },
  {
   "cell_type": "code",
   "execution_count": 18,
   "metadata": {},
   "outputs": [],
   "source": [
    "def bias_var(x, y, List_baggs):\n",
    "    n = len(List_baggs)\n",
    "    h_star_x = np.zeros(n)\n",
    "    for i in range(n):\n",
    "        bagg = List_baggs[i]\n",
    "        h_star_x[i] = Bagg_pred(x, bagg)\n",
    "    return (y - h_star_x.mean())**2, h_star_x.var() "
   ]
  },
  {
   "cell_type": "code",
   "execution_count": null,
   "metadata": {},
   "outputs": [],
   "source": [
    "bias_bagg = np.array([bias_var(Test[i], Test_Label[i], Model_histroy)[0] for i in range(len(Test))]).mean()\n",
    "var_bagg = np.array([bias_var(Test[i], Test_Label[i], Model_histroy)[1] for i in range(len(Test))]).mean()"
   ]
  },
  {
   "cell_type": "code",
   "execution_count": null,
   "metadata": {},
   "outputs": [],
   "source": [
    "print('bias, variance, and general_squared_error: ', bias_bagg, var_bagg, bias_bagg+ var_bagg)"
   ]
  },
  {
   "cell_type": "code",
   "execution_count": null,
   "metadata": {},
   "outputs": [],
   "source": []
  }
 ],
 "metadata": {
  "kernelspec": {
   "display_name": "Python 3 (ipykernel)",
   "language": "python",
   "name": "python3"
  },
  "language_info": {
   "codemirror_mode": {
    "name": "ipython",
    "version": 3
   },
   "file_extension": ".py",
   "mimetype": "text/x-python",
   "name": "python",
   "nbconvert_exporter": "python",
   "pygments_lexer": "ipython3",
   "version": "3.9.7"
  }
 },
 "nbformat": 4,
 "nbformat_minor": 4
}
