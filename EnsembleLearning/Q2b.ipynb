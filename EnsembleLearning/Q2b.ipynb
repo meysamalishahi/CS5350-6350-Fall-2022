{
 "cells": [
  {
   "cell_type": "code",
   "execution_count": 1,
   "metadata": {},
   "outputs": [],
   "source": [
    "import pandas as pd\n",
    "import numpy as np\n",
    "from AllFunctions import *\n",
    "from numpy import log2, log, sqrt\n",
    "import matplotlib.pyplot as plt\n",
    "import random\n",
    "from random import sample"
   ]
  },
  {
   "cell_type": "code",
   "execution_count": 2,
   "metadata": {},
   "outputs": [],
   "source": [
    "# txtfile = open('bank/data-desc.txt', 'r')\n",
    "# print(txtfile.read())"
   ]
  },
  {
   "cell_type": "code",
   "execution_count": 3,
   "metadata": {},
   "outputs": [],
   "source": [
    "C = ['age', 'job', 'marital', 'education', 'default', 'balance', 'housing', 'loan', \n",
    " 'contact', 'day', 'month', 'duration', 'campaign', 'pdays', 'previous', 'poutcome', 'y']\n",
    "types = ['numeric', 'categorical', 'categorical', 'categorical', 'binary', 'numeric', \n",
    "                      'binary', 'binary', 'categorical', 'numeric', 'categorical', 'numeric', \n",
    "                      'numeric', 'numeric', 'numeric', 'categorical', 'binary']\n",
    "dic= dict(zip(C, types))"
   ]
  },
  {
   "cell_type": "code",
   "execution_count": 4,
   "metadata": {},
   "outputs": [],
   "source": [
    "train = pd.read_csv('bank/train.csv', names = C)\n",
    "test = pd.read_csv('bank/test.csv', names = C)\n",
    "#train.head()"
   ]
  },
  {
   "cell_type": "code",
   "execution_count": 5,
   "metadata": {},
   "outputs": [],
   "source": [
    "median_dict = {}\n",
    "Train_new =pd.DataFrame()\n",
    "Test_new =pd.DataFrame()\n",
    "for name in C:\n",
    "    if dic[name] == 'numeric':\n",
    "        M = train[name].median()\n",
    "        median_dict[name] = M\n",
    "        Train_new[name+ '>' + str(M)] = np.where(train[name]  > M, 'yes', 'no')\n",
    "        Test_new[name+ '>' + str(M)] = np.where(test[name]  > M, 'yes', 'no')\n",
    "    else:\n",
    "        Train_new[name] = train[name]\n",
    "        Test_new[name] = test[name]"
   ]
  },
  {
   "cell_type": "code",
   "execution_count": 6,
   "metadata": {},
   "outputs": [],
   "source": [
    "Train = []\n",
    "Label = []\n",
    "for i in range(len(Train_new)):\n",
    "    temp = list(Train_new.loc[i])\n",
    "    Train.append(temp[:-1])\n",
    "    Label.append(temp[-1])"
   ]
  },
  {
   "cell_type": "code",
   "execution_count": 7,
   "metadata": {},
   "outputs": [],
   "source": [
    "Test = []\n",
    "Test_Label = []\n",
    "for i in range(len(Test_new)):\n",
    "    temp = list(Test_new.loc[i])\n",
    "    Test.append(temp[:-1])\n",
    "    Test_Label.append(temp[-1])"
   ]
  },
  {
   "cell_type": "code",
   "execution_count": 8,
   "metadata": {},
   "outputs": [],
   "source": [
    "for i in range(len(Label)):\n",
    "    if Label[i] == 'yes':\n",
    "        Label[i] = 1\n",
    "    else:\n",
    "        Label[i] = -1"
   ]
  },
  {
   "cell_type": "code",
   "execution_count": 9,
   "metadata": {},
   "outputs": [],
   "source": [
    "for i in range(len(Test_Label)):\n",
    "    if Test_Label[i] == 'yes':\n",
    "        Test_Label[i] = 1\n",
    "    else:\n",
    "        Test_Label[i] = -1"
   ]
  },
  {
   "cell_type": "code",
   "execution_count": 10,
   "metadata": {},
   "outputs": [],
   "source": [
    "atts = list(range(0,len(C)-1))"
   ]
  },
  {
   "cell_type": "code",
   "execution_count": 11,
   "metadata": {},
   "outputs": [
    {
     "data": {
      "text/plain": [
       "[0, 1, 2, 3, 4, 5, 6, 7, 8, 9, 10, 11, 12, 13, 14, 15]"
      ]
     },
     "execution_count": 11,
     "metadata": {},
     "output_type": "execute_result"
    }
   ],
   "source": [
    "atts"
   ]
  },
  {
   "cell_type": "markdown",
   "metadata": {},
   "source": [
    "### Bagged trees learning algorithm"
   ]
  },
  {
   "cell_type": "code",
   "execution_count": 12,
   "metadata": {},
   "outputs": [],
   "source": [
    "def my_sample(train, train_labels, n_samples = None):\n",
    "    if n_samples == None:\n",
    "        n_samples = len(train_labels)\n",
    "    s_train = []\n",
    "    s_lable = []\n",
    "    for i in range(0, n_samples):\n",
    "        x = random.randint(0, n_samples-1)\n",
    "        s_train.append(train[x])\n",
    "        s_lable.append(train_labels[x])\n",
    "\n",
    "    return s_train, s_lable"
   ]
  },
  {
   "cell_type": "code",
   "execution_count": 14,
   "metadata": {},
   "outputs": [],
   "source": [
    "Bagged_trees = []\n",
    "for x in range(1000):\n",
    "    X, Y = my_sample(Train, Label)\n",
    "    Bagged_trees.append (DT(X, Y, attss = [i for i in range(len(Train[0]))], depth = -1, randomness = None))"
   ]
  },
  {
   "cell_type": "code",
   "execution_count": 15,
   "metadata": {},
   "outputs": [],
   "source": [
    "def Error_bagging(Forest, X, Y):\n",
    "    \n",
    "    n = len(Y)\n",
    "    error = [0] * len(Forest)\n",
    "    \n",
    "    for i in range(n):\n",
    "        count = {}\n",
    "        majority = None\n",
    "        Max = -1\n",
    "        for j in range(len(Forest)):\n",
    "            \n",
    "\n",
    "            temp = Forest[j].predict(X[i]) \n",
    "            if temp not in count:\n",
    "                count[temp] = 0\n",
    "                \n",
    "            count[temp] += 1\n",
    "            if count[temp] > Max:\n",
    "                Max = count[temp]\n",
    "                majority = temp\n",
    "        \n",
    "            if majority != Y[i]:\n",
    "                error[j] += 1/len(Y)\n",
    "    return(error)"
   ]
  },
  {
   "cell_type": "code",
   "execution_count": 16,
   "metadata": {},
   "outputs": [],
   "source": [
    "E_train = Error_bagging(Bagged_trees, Train, Label)"
   ]
  },
  {
   "cell_type": "code",
   "execution_count": 17,
   "metadata": {},
   "outputs": [],
   "source": [
    "E_test = Error_bagging(Bagged_trees, Test, Test_Label)"
   ]
  },
  {
   "cell_type": "code",
   "execution_count": 18,
   "metadata": {},
   "outputs": [
    {
     "data": {
      "image/png": "[encoded data removed]",
      "text/plain": [
       "<Figure size 432x288 with 1 Axes>"
      ]
     },
     "metadata": {
      "needs_background": "light"
     },
     "output_type": "display_data"
    }
   ],
   "source": [
    "plt.plot(E_train, color ='blue', label = \"Train\")\n",
    "plt.plot(E_test, color ='red', label = \"Test\")\n",
    "\n",
    "plt.axis()\n",
    "plt.title(\"Bagged trees Error vs #iters\", color='black') \n",
    "plt.legend()\n",
    "plt.show()"
   ]
  },
  {
   "cell_type": "code",
   "execution_count": null,
   "metadata": {},
   "outputs": [],
   "source": []
  }
 ],
 "metadata": {
  "kernelspec": {
   "display_name": "Python 3 (ipykernel)",
   "language": "python",
   "name": "python3"
  },
  "language_info": {
   "codemirror_mode": {
    "name": "ipython",
    "version": 3
   },
   "file_extension": ".py",
   "mimetype": "text/x-python",
   "name": "python",
   "nbconvert_exporter": "python",
   "pygments_lexer": "ipython3",
   "version": "3.9.7"
  }
 },
 "nbformat": 4,
 "nbformat_minor": 4
}
