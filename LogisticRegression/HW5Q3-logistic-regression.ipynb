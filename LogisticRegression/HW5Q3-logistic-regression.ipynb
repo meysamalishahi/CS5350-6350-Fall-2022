{
 "cells": [
  {
   "cell_type": "code",
   "execution_count": 1,
   "id": "27800ce6",
   "metadata": {},
   "outputs": [],
   "source": [
    "import numpy as np"
   ]
  },
  {
   "cell_type": "markdown",
   "id": "9c06f5c3",
   "metadata": {},
   "source": [
    "# Data loading and cleaning"
   ]
  },
  {
   "cell_type": "code",
   "execution_count": 2,
   "id": "bc25d112",
   "metadata": {},
   "outputs": [],
   "source": [
    "data_t = np.genfromtxt(\"bank-note/train.csv\", dtype=float, delimiter=',')\n",
    "data_t = np.hstack((np.ones((data_t.shape[0],1)), data_t))\n",
    "# data_t.shape"
   ]
  },
  {
   "cell_type": "code",
   "execution_count": 3,
   "id": "5b4ba0bc",
   "metadata": {},
   "outputs": [],
   "source": [
    "data_train = data_t[:,:-1]\n",
    "label_train = data_t[:,-1].astype(int)\n",
    "# data_train.shape, label_train.shape"
   ]
  },
  {
   "cell_type": "code",
   "execution_count": 4,
   "id": "9a1af6d7",
   "metadata": {},
   "outputs": [],
   "source": [
    "data_test = np.genfromtxt(\"bank-note/test.csv\", dtype=float, delimiter=',')\n",
    "data_test = np.hstack((np.ones((data_test.shape[0],1)), data_test))\n",
    "# data_test.shape"
   ]
  },
  {
   "cell_type": "code",
   "execution_count": 5,
   "id": "01d886ef",
   "metadata": {},
   "outputs": [],
   "source": [
    "test = data_test[:,:-1]\n",
    "label = data_test[:,-1].astype(int)\n",
    "# test.shape, label.shape"
   ]
  },
  {
   "cell_type": "markdown",
   "id": "b27f8431",
   "metadata": {},
   "source": [
    "# Defining functions "
   ]
  },
  {
   "cell_type": "code",
   "execution_count": 6,
   "id": "e430c1c6",
   "metadata": {},
   "outputs": [],
   "source": [
    "def sigmoid(z):\n",
    "    if z < 0:\n",
    "        return np.exp(z)/(1+np.exp(z))\n",
    "    return 1/(1+np.exp(-z))\n",
    "    \n",
    "def sig(z):   \n",
    "    mask = (z>=0).astype(int)\n",
    "    return mask/(1+np.exp(-mask*z)) + (1-mask) *np.exp((1-mask)*z)/(1+np.exp((1-mask)*z))\n",
    "\n",
    "def grad_neg_log_likelihood(w, x, l):\n",
    "    s = np.dot(w,x)\n",
    "    y = 2*l - 1 \n",
    "    return -y*sigmoid(-y*s) * x\n",
    "\n",
    "def accuracy(w, data, label):\n",
    "    y_hat = (sig(data@w) >= 0.5).astype(int)\n",
    "    return 1 - (y_hat == label).mean()"
   ]
  },
  {
   "cell_type": "code",
   "execution_count": 7,
   "id": "a1d43858",
   "metadata": {},
   "outputs": [],
   "source": [
    "lr = lambda gamma_0, d, t: gamma_0/(1+gamma_0 * t/d)"
   ]
  },
  {
   "cell_type": "code",
   "execution_count": 8,
   "id": "356a44c4",
   "metadata": {},
   "outputs": [],
   "source": [
    "def train(data, label, gamma_0, d, n_epoch, reg):\n",
    "    n_samples, n_features = data.shape\n",
    "    w = np.random.normal(loc = 0, scale = 1, size = (n_features,))\n",
    "    L = list(range(n_samples))\n",
    "    for i in range(n_epoch):\n",
    "        L = np.random.permutation(n_samples)\n",
    "        X = data[L,:]\n",
    "        y = label[L]\n",
    "        for j in range(n_samples):\n",
    "            w = w - lr(gamma_0, d, i)*reg* w - n_samples*lr(gamma_0, d, i) * grad_neg_log_likelihood(w, X[j,:], y[j])\n",
    "    return w "
   ]
  },
  {
   "cell_type": "code",
   "execution_count": 9,
   "id": "2da8550e",
   "metadata": {},
   "outputs": [],
   "source": [
    "w_map = train(data_train, label_train, gamma_0 = .1, d = .1, n_epoch = 10, reg =1)"
   ]
  },
  {
   "cell_type": "code",
   "execution_count": 10,
   "id": "27266128",
   "metadata": {},
   "outputs": [
    {
     "data": {
      "text/plain": [
       "(0.17889908256880738, 0.17200000000000004)"
      ]
     },
     "execution_count": 10,
     "metadata": {},
     "output_type": "execute_result"
    }
   ],
   "source": [
    "accuracy(w_map, data_train, label_train), accuracy(w_map, test, label)"
   ]
  },
  {
   "cell_type": "code",
   "execution_count": 11,
   "id": "31ac696f",
   "metadata": {},
   "outputs": [
    {
     "name": "stdout",
     "output_type": "stream",
     "text": [
      "Using the MAP estimation with prior variance variance from {0.01, 0.1, 0.5, 1, 3, 5, 10, 100}\n"
     ]
    }
   ],
   "source": [
    "print(\"Using the MAP estimation with prior variance from {0.01, 0.1, 0.5, 1, 3, 5, 10, 100}\")"
   ]
  },
  {
   "cell_type": "code",
   "execution_count": 12,
   "id": "2a8a50d5",
   "metadata": {},
   "outputs": [
    {
     "name": "stdout",
     "output_type": "stream",
     "text": [
      "For variance = 0.01, train error = 0.03669724770642202 and test error = 0.04600000000000004\n",
      "For variance = 0.1, train error = 0.017201834862385357 and test error = 0.014000000000000012\n",
      "For variance = 0.5, train error = 0.013761467889908285 and test error = 0.01200000000000001\n",
      "For variance = 1, train error = 0.00917431192660545 and test error = 0.010000000000000009\n",
      "For variance = 3, train error = 0.00917431192660545 and test error = 0.01200000000000001\n",
      "For variance = 5, train error = 0.011467889908256867 and test error = 0.01200000000000001\n",
      "For variance = 10, train error = 0.00917431192660545 and test error = 0.008000000000000007\n",
      "For variance = 100, train error = 0.010321100917431214 and test error = 0.01200000000000001\n"
     ]
    }
   ],
   "source": [
    "L = ['0.01', '0.1', '0.5', '1', '3', '5', '10', '100']\n",
    "LL = [0.01, 0.1, 0.5, 1, 3, 5, 10, 100]\n",
    "for i in range(8):\n",
    "    var = LL[i]\n",
    "    w_map = train(data_train, label_train, gamma_0 = .001, d = .001, n_epoch = 100, reg =2/var)\n",
    "    train_error, test_error = accuracy(w_map, data_train, label_train), accuracy(w_map, test, label)\n",
    "    print('For variance = {}, train error = {} and test error = {}'.format(var, train_error, test_error))"
   ]
  },
  {
   "cell_type": "code",
   "execution_count": 13,
   "id": "b80c2435",
   "metadata": {},
   "outputs": [
    {
     "name": "stdout",
     "output_type": "stream",
     "text": [
      "Using maximum likelihood (ML) estimation\n"
     ]
    }
   ],
   "source": [
    "print(\"Using maximum likelihood (ML) estimation\")"
   ]
  },
  {
   "cell_type": "code",
   "execution_count": 14,
   "id": "96fee240",
   "metadata": {},
   "outputs": [
    {
     "name": "stdout",
     "output_type": "stream",
     "text": [
      "train error = 0.010321100917431214 and test error = 0.01200000000000001\n"
     ]
    }
   ],
   "source": [
    "w_ML = train(data_train, label_train, gamma_0 = .01, d = .01, n_epoch = 10, reg =0)\n",
    "train_error, test_error = accuracy(w_map, data_train, label_train), accuracy(w_map, test, label)\n",
    "print('train error = {} and test error = {}'.format(train_error, test_error))"
   ]
  }
 ],
 "metadata": {
  "kernelspec": {
   "display_name": "Python 3 (ipykernel)",
   "language": "python",
   "name": "python3"
  },
  "language_info": {
   "codemirror_mode": {
    "name": "ipython",
    "version": 3
   },
   "file_extension": ".py",
   "mimetype": "text/x-python",
   "name": "python",
   "nbconvert_exporter": "python",
   "pygments_lexer": "ipython3",
   "version": "3.9.7"
  }
 },
 "nbformat": 4,
 "nbformat_minor": 5
}
