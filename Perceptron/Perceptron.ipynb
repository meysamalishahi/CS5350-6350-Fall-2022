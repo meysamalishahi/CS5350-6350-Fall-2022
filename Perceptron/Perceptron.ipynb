{
 "cells": [
  {
   "cell_type": "code",
   "execution_count": 1,
   "id": "91ea77ea",
   "metadata": {},
   "outputs": [],
   "source": [
    "import numpy as np\n",
    "from random import shuffle\n",
    "import time"
   ]
  },
  {
   "cell_type": "code",
   "execution_count": 2,
   "id": "854df52c",
   "metadata": {},
   "outputs": [],
   "source": [
    "# txtfile = open('bank-note/data-desc', 'r')\n",
    "# print(txtfile.read())"
   ]
  },
  {
   "cell_type": "code",
   "execution_count": 3,
   "id": "c0d6a8a6",
   "metadata": {},
   "outputs": [],
   "source": [
    "train = np.genfromtxt('bank-note/train.csv', delimiter=\",\")\n",
    "test = np.genfromtxt('bank-note/test.csv', delimiter=\",\")\n",
    "train_label = 2*train[:,-1] - 1\n",
    "test_label = 2*test[:,-1]-1\n",
    "train[:,-1] = np.ones(train.shape[0])\n",
    "test[:,-1] = np.ones(test.shape[0])"
   ]
  },
  {
   "cell_type": "code",
   "execution_count": 4,
   "id": "a82dbd5c",
   "metadata": {},
   "outputs": [
    {
     "name": "stdout",
     "output_type": "stream",
     "text": [
      "(872, 5) (500, 5)\n"
     ]
    }
   ],
   "source": [
    "print(train.shape, test.shape)"
   ]
  },
  {
   "cell_type": "code",
   "execution_count": 5,
   "id": "85b2f2c6",
   "metadata": {},
   "outputs": [],
   "source": [
    "class Perceptron:\n",
    "    def __init__(self, X, y, n_epoch = 10, Shuffle = True):\n",
    "        self.w = np.zeros(X.shape[1])\n",
    "        self.W = [self.w.copy()]\n",
    "        self.C = [1]\n",
    "        \n",
    "        self.train(X, y, n_epoch=n_epoch, Shuffle=Shuffle)\n",
    "        \n",
    "        \n",
    "    def train(self,X, y, n_epoch, Shuffle):\n",
    "        N = X.shape[0]\n",
    "        \n",
    "        \n",
    "        for i in range(n_epoch):\n",
    "            if Shuffle:\n",
    "                I = list(range(N))\n",
    "                shuffle(I)\n",
    "                X_ = X[I,:]\n",
    "                y_ = y[I]\n",
    "            else:\n",
    "                X_ = X\n",
    "                y_ = y\n",
    "            for j in range(N):\n",
    "                if y_[j] * np.dot(X_[j], self.w) <= 0:\n",
    "                    self.w += y_[j] * X_[j]\n",
    "                    self.W.append(self.w.copy())\n",
    "                    self.C.append(1)\n",
    "                else:\n",
    "                    self.C[-1] += 1\n",
    "\n",
    "    def pred(self,data, type_Perceptron = 'standard'):\n",
    "        N = data.shape[0]\n",
    "        \n",
    "        if type_Perceptron == 'standard':\n",
    "            return 2 * (data @ self.W[-1] >= 0) - 1\n",
    "        \n",
    "        if type_Perceptron == 'voted': \n",
    "            W = np.array(self.W).T\n",
    "            C = np.array(self.C)\n",
    "            return 2*(((2*(data@W >=0)-1)@C)>=0)-1\n",
    "        \n",
    "        if type_Perceptron == 'average':\n",
    "            W = np.array(self.W).T\n",
    "            C = np.array(self.C)\n",
    "            return 2*((data@W@C)>=0)-1\n",
    "        \n",
    "        \n",
    "        \n",
    "    def error(self,data, label, type_Perceptron = 'standard'):\n",
    "        y_hat = self.pred(data, type_Perceptron = type_Perceptron)\n",
    "        return (y_hat == label).mean()"
   ]
  },
  {
   "cell_type": "markdown",
   "id": "3ab160e8",
   "metadata": {},
   "source": [
    "### Standard Perceptron. "
   ]
  },
  {
   "cell_type": "code",
   "execution_count": 6,
   "id": "dc62bf64",
   "metadata": {},
   "outputs": [
    {
     "name": "stdout",
     "output_type": "stream",
     "text": [
      "Standard Perceptron:\n"
     ]
    }
   ],
   "source": [
    "print('Standard Perceptron:')"
   ]
  },
  {
   "cell_type": "code",
   "execution_count": 7,
   "id": "86004061",
   "metadata": {},
   "outputs": [],
   "source": [
    "model = Perceptron(train, train_label)"
   ]
  },
  {
   "cell_type": "code",
   "execution_count": 8,
   "id": "799ead4b",
   "metadata": {},
   "outputs": [
    {
     "name": "stdout",
     "output_type": "stream",
     "text": [
      "Train error for standard perceptron: 0.059633027522935755\n"
     ]
    }
   ],
   "source": [
    "print('Train error for standard perceptron: {}'.format(1-model.error(train, train_label)))"
   ]
  },
  {
   "cell_type": "code",
   "execution_count": 9,
   "id": "3b21e5d7",
   "metadata": {},
   "outputs": [
    {
     "name": "stdout",
     "output_type": "stream",
     "text": [
      "Test error for standard perceptron: 0.07199999999999995\n"
     ]
    }
   ],
   "source": [
    "print('Test error for standard perceptron: {}'.format(1-model.error(test, test_label)))"
   ]
  },
  {
   "cell_type": "code",
   "execution_count": 10,
   "id": "eedd6a89",
   "metadata": {},
   "outputs": [
    {
     "name": "stdout",
     "output_type": "stream",
     "text": [
      "learned weight vector: [-50.32605    -30.54146872 -45.298421   -12.978293    51.        ]\n"
     ]
    }
   ],
   "source": [
    "print('learned weight vector: {}'.format(model.W[-1]))"
   ]
  },
  {
   "cell_type": "markdown",
   "id": "9a8a4a45",
   "metadata": {},
   "source": [
    "### Voted Perceptron"
   ]
  },
  {
   "cell_type": "code",
   "execution_count": 11,
   "id": "346a730e",
   "metadata": {},
   "outputs": [
    {
     "name": "stdout",
     "output_type": "stream",
     "text": [
      "Voted Perceptron\n"
     ]
    }
   ],
   "source": [
    "print('Voted Perceptron')"
   ]
  },
  {
   "cell_type": "code",
   "execution_count": 12,
   "id": "7f6ee6bb",
   "metadata": {},
   "outputs": [
    {
     "name": "stdout",
     "output_type": "stream",
     "text": [
      "Train error for voted perceptron: 0.011467889908256867\n"
     ]
    }
   ],
   "source": [
    "print('Train error for voted perceptron: {}'.format(1-model.error(train, train_label, \n",
    "                                                                     type_Perceptron = 'voted')))"
   ]
  },
  {
   "cell_type": "code",
   "execution_count": 13,
   "id": "a1bf44d3",
   "metadata": {},
   "outputs": [
    {
     "name": "stdout",
     "output_type": "stream",
     "text": [
      "Test error for voted perceptron: 0.011467889908256867\n"
     ]
    }
   ],
   "source": [
    "print('Test error for voted perceptron: {}'.format(1-model.error(train, train_label, \n",
    "                                                                     type_Perceptron = 'voted')))"
   ]
  },
  {
   "cell_type": "code",
   "execution_count": 14,
   "id": "17cd3764",
   "metadata": {},
   "outputs": [],
   "source": [
    "W_voted = np.array(model.W)\n",
    "C = np.array(model.C)"
   ]
  },
  {
   "cell_type": "code",
   "execution_count": 15,
   "id": "bf42faa3",
   "metadata": {
    "scrolled": true
   },
   "outputs": [
    {
     "name": "stdout",
     "output_type": "stream",
     "text": [
      "learned weight vectors:\n",
      " [[ -1.7479      -5.823        5.8699       1.212        1.        ]\n",
      " [ -7.9111       2.8866       5.65369     -2.4225       2.        ]\n",
      " [ -9.5051      -1.8189       4.27789     -2.504382     1.        ]\n",
      " [ -8.8002      -1.64716      2.49199     -2.143192     2.        ]\n",
      " [ -7.1203       2.55964     -2.04781     -4.536292     3.        ]\n",
      " [-50.32605    -30.54146872 -45.298421   -12.978293    51.        ]\n",
      " [-49.99685    -34.99666872 -40.726621   -13.967093    52.        ]\n",
      " [-49.47735    -38.25996872 -37.637121   -14.951993    53.        ]\n",
      " [-51.49505    -40.05816872 -34.679021   -15.161893    52.        ]\n",
      " [-53.08545    -42.27026872 -31.560721   -15.044643    51.        ]]\n"
     ]
    }
   ],
   "source": [
    "print('learned weight vectors:\\n {}'.format(W_voted[[1,2,3,4,5,-1,-2,-3,-4,-5]]))"
   ]
  },
  {
   "cell_type": "code",
   "execution_count": 16,
   "id": "1d0ca3b4",
   "metadata": {},
   "outputs": [
    {
     "name": "stdout",
     "output_type": "stream",
     "text": [
      "counts:\n",
      " [ 1  1  6  4  2 10 37 25  7  2]\n"
     ]
    }
   ],
   "source": [
    "print('counts:\\n {}'.format(C[[1,2,3,4,5,-1,-2,-3,-4,-5]]))"
   ]
  },
  {
   "cell_type": "markdown",
   "id": "1e81601b",
   "metadata": {},
   "source": [
    "### Average Perceptron"
   ]
  },
  {
   "cell_type": "code",
   "execution_count": 17,
   "id": "ee8786ac",
   "metadata": {},
   "outputs": [
    {
     "name": "stdout",
     "output_type": "stream",
     "text": [
      "Average Perceptron\n"
     ]
    }
   ],
   "source": [
    "print('Average Perceptron')"
   ]
  },
  {
   "cell_type": "code",
   "execution_count": 18,
   "id": "ef802089",
   "metadata": {},
   "outputs": [
    {
     "name": "stdout",
     "output_type": "stream",
     "text": [
      "Train error for standard perceptron: 0.013761467889908285\n"
     ]
    }
   ],
   "source": [
    "print('Train error for standard perceptron: {}'.format(1-model.error(train, train_label, \n",
    "                                                                     type_Perceptron = 'average')))"
   ]
  },
  {
   "cell_type": "code",
   "execution_count": 19,
   "id": "2089cd1e",
   "metadata": {},
   "outputs": [
    {
     "name": "stdout",
     "output_type": "stream",
     "text": [
      "Test error for standard perceptron: 0.014000000000000012\n"
     ]
    }
   ],
   "source": [
    "print('Test error for standard perceptron: {}'.format(1-model.error(test, test_label, \n",
    "                                                                     type_Perceptron = 'average')))"
   ]
  },
  {
   "cell_type": "code",
   "execution_count": 20,
   "id": "b0e8eafa",
   "metadata": {},
   "outputs": [],
   "source": [
    "W_average = C @ W_voted/np.sum(C)"
   ]
  },
  {
   "cell_type": "code",
   "execution_count": 21,
   "id": "f4a77340",
   "metadata": {},
   "outputs": [
    {
     "name": "stdout",
     "output_type": "stream",
     "text": [
      "learned weight vectors:\n",
      " [-41.07594516 -27.17127837 -28.01073428  -7.9615591   36.70462103]\n"
     ]
    }
   ],
   "source": [
    "print('learned weight vectors:\\n {}'.format(W_average))"
   ]
  },
  {
   "cell_type": "code",
   "execution_count": null,
   "id": "5c10b2a7",
   "metadata": {},
   "outputs": [],
   "source": []
  }
 ],
 "metadata": {
  "kernelspec": {
   "display_name": "Python 3 (ipykernel)",
   "language": "python",
   "name": "python3"
  },
  "language_info": {
   "codemirror_mode": {
    "name": "ipython",
    "version": 3
   },
   "file_extension": ".py",
   "mimetype": "text/x-python",
   "name": "python",
   "nbconvert_exporter": "python",
   "pygments_lexer": "ipython3",
   "version": "3.9.7"
  }
 },
 "nbformat": 4,
 "nbformat_minor": 5
}
