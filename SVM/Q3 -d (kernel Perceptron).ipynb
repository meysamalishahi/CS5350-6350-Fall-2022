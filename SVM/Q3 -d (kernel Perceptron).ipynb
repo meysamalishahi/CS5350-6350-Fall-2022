{
 "cells": [
  {
   "cell_type": "code",
   "execution_count": 1,
   "id": "67b4b523",
   "metadata": {},
   "outputs": [],
   "source": [
    "import numpy as np\n",
    "from scipy.optimize import minimize, LinearConstraint, Bounds\n",
    "import time\n",
    "from termcolor import colored\n",
    "import math\n",
    "import numpy.linalg as LA"
   ]
  },
  {
   "cell_type": "code",
   "execution_count": 2,
   "id": "317d8510",
   "metadata": {},
   "outputs": [],
   "source": [
    "X_t = np.genfromtxt('bank-note/train.csv', delimiter=\",\")\n",
    "X_test = np.genfromtxt('bank-note/test.csv', delimiter=\",\")\n",
    "y_t = (2*X_t[:,-1] - 1).reshape(-1,)\n",
    "y_test = (2*X_test[:,-1]-1).reshape(-1,)"
   ]
  },
  {
   "cell_type": "code",
   "execution_count": 3,
   "id": "6865e5b5",
   "metadata": {},
   "outputs": [],
   "source": [
    "X_t = X_t[:,:-1]\n",
    "X_test = X_test[:,:-1]"
   ]
  },
  {
   "cell_type": "code",
   "execution_count": 4,
   "id": "0ce06619",
   "metadata": {},
   "outputs": [],
   "source": [
    "def G_k(A, B, gamma):  #Resturn a matrix whose ijth entry is exp{-||A_i-B_j||**2/gamma}\n",
    "    temp = np.sum(A * A, 1).reshape(A.shape[0], 1) + np.sum(B * B, 1).reshape(1, B.shape[0]) - 2 * A @ B.T\n",
    "    return np.exp(-temp/gamma)"
   ]
  },
  {
   "cell_type": "code",
   "execution_count": 5,
   "id": "ed810ad1",
   "metadata": {},
   "outputs": [],
   "source": [
    "num_train = X_t.shape[0]"
   ]
  },
  {
   "cell_type": "code",
   "execution_count": 6,
   "id": "a62d7aca",
   "metadata": {},
   "outputs": [],
   "source": [
    "def f(G, C, j):\n",
    "    return np.dot((C*y_t), G[j])"
   ]
  },
  {
   "cell_type": "code",
   "execution_count": 7,
   "id": "baeb868c",
   "metadata": {},
   "outputs": [],
   "source": [
    "def K(x,z,gamma):\n",
    "    return(math.exp((- LA.norm(x-z)**2)/gamma))"
   ]
  },
  {
   "cell_type": "code",
   "execution_count": 8,
   "id": "47409974",
   "metadata": {},
   "outputs": [],
   "source": [
    "def predict(x,gamma):\n",
    "    s = 0\n",
    "    for i in range(num_train):\n",
    "        s += C[i]*y_t[i]*K(X_t[i],x,gamma)\n",
    "    if s>=0:\n",
    "        return 1\n",
    "    return -1"
   ]
  },
  {
   "cell_type": "code",
   "execution_count": 9,
   "id": "63673cee",
   "metadata": {},
   "outputs": [],
   "source": [
    "def kernel_Perceptron(gamma):\n",
    "    G = G_k(X_t, X_t, gamma)\n",
    "    C = np.zeros(num_train)\n",
    "    for i in range(10):\n",
    "        L = np.random.permutation(num_train)\n",
    "        for k in range(num_train):\n",
    "            j = L[k]\n",
    "            if y_t[j]*f(G, C,j) <= 0:\n",
    "                C[j] += 1\n",
    "    return C"
   ]
  },
  {
   "cell_type": "code",
   "execution_count": 10,
   "id": "0aadfb15",
   "metadata": {},
   "outputs": [],
   "source": [
    "def pred(C, X, gamma):\n",
    "    P = []\n",
    "    for i in range(X.shape[0]):\n",
    "        P.append(predict(X[i],gamma))\n",
    "    return np.array(P)"
   ]
  },
  {
   "cell_type": "code",
   "execution_count": 11,
   "id": "9a09f3b5",
   "metadata": {},
   "outputs": [],
   "source": [
    "Gamma = [ 0.1, 0.5, 1, 5, 100]"
   ]
  },
  {
   "cell_type": "code",
   "execution_count": 12,
   "id": "ed15f5ee",
   "metadata": {},
   "outputs": [
    {
     "name": "stdout",
     "output_type": "stream",
     "text": [
      "kernel Perceptron algorithm for $\\gamma = 0.1$\\\\\n",
      "Train error = 0.0\n",
      "Test error = 0.0020000000000000018\n",
      "kernel Perceptron algorithm for $\\gamma = 0.5$\\\\\n",
      "Train error = 0.0\n",
      "Test error = 0.006000000000000005\n",
      "kernel Perceptron algorithm for $\\gamma = 1$\\\\\n",
      "Train error = 0.0\n",
      "Test error = 0.0020000000000000018\n",
      "kernel Perceptron algorithm for $\\gamma = 5$\\\\\n",
      "Train error = 0.0\n",
      "Test error = 0.0020000000000000018\n",
      "kernel Perceptron algorithm for $\\gamma = 100$\\\\\n",
      "Train error = 0.0\n",
      "Test error = 0.0\n"
     ]
    }
   ],
   "source": [
    "for gamma in Gamma:\n",
    "    print('kernel Perceptron algorithm for $\\gamma = {}$\\\\\\\\'.format(gamma))\n",
    "    C = kernel_Perceptron(gamma)\n",
    "    P_train = pred(C, X_t, gamma)\n",
    "    print('Train error = {}'.format(1-(P_train == y_t).mean()))\n",
    "    P_test = pred(C, X_test, gamma)\n",
    "    print('Test error = {}'.format(1-(P_test == y_test).mean()))\n",
    "    "
   ]
  },
  {
   "cell_type": "code",
   "execution_count": null,
   "id": "68416c63",
   "metadata": {},
   "outputs": [],
   "source": []
  }
 ],
 "metadata": {
  "kernelspec": {
   "display_name": "Python 3 (ipykernel)",
   "language": "python",
   "name": "python3"
  },
  "language_info": {
   "codemirror_mode": {
    "name": "ipython",
    "version": 3
   },
   "file_extension": ".py",
   "mimetype": "text/x-python",
   "name": "python",
   "nbconvert_exporter": "python",
   "pygments_lexer": "ipython3",
   "version": "3.9.7"
  }
 },
 "nbformat": 4,
 "nbformat_minor": 5
}
